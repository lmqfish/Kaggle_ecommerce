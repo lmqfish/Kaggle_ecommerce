{
 "cells": [
  {
   "cell_type": "markdown",
   "metadata": {
    "code_folding": [],
    "heading_collapsed": true
   },
   "source": [
    "# Introduction"
   ]
  },
  {
   "cell_type": "markdown",
   "metadata": {
    "hidden": true
   },
   "source": [
    "## Original Dataset Description\n",
    "\"This is a transnational data set which contains all the transactions occurring between 01/12/2010 and 09/12/2011 for a UK-based and registered non-store online retail.The company mainly sells unique all-occasion gifts. Many customers of the company are wholesalers.\"(https://www.kaggle.com/carrie1/ecommerce-data)"
   ]
  },
  {
   "cell_type": "markdown",
   "metadata": {
    "hidden": true
   },
   "source": [
    "##### Business Question\n",
    "Generate a time series forecast for the monthly/weekly sales."
   ]
  },
  {
   "cell_type": "markdown",
   "metadata": {
    "hidden": true
   },
   "source": [
    "## Potential Challenges\n",
    "-  Only one-year data: seasonality matters\n",
    "-  Stationarity: Most of the time series models work on the assumption that the time series is stationary"
   ]
  },
  {
   "cell_type": "markdown",
   "metadata": {},
   "source": [
    "# Data Preprocessing"
   ]
  },
  {
   "cell_type": "markdown",
   "metadata": {},
   "source": [
    "## Dataset overview"
   ]
  },
  {
   "cell_type": "code",
   "execution_count": 391,
   "metadata": {},
   "outputs": [],
   "source": [
    "# import packages\n",
    "import pandas as pd\n",
    "import numpy as np\n",
    "import matplotlib.pyplot as plt\n",
    "%matplotlib inline\n",
    "from IPython.core.interactiveshell import InteractiveShell\n",
    "InteractiveShell.ast_node_interactivity = \"all\"\n",
    "pd.set_option('mode.chained_assignment', None)"
   ]
  },
  {
   "cell_type": "code",
   "execution_count": 392,
   "metadata": {},
   "outputs": [
    {
     "data": {
      "text/html": [
       "<div>\n",
       "<style>\n",
       "    .dataframe thead tr:only-child th {\n",
       "        text-align: right;\n",
       "    }\n",
       "\n",
       "    .dataframe thead th {\n",
       "        text-align: left;\n",
       "    }\n",
       "\n",
       "    .dataframe tbody tr th {\n",
       "        vertical-align: top;\n",
       "    }\n",
       "</style>\n",
       "<table border=\"1\" class=\"dataframe\">\n",
       "  <thead>\n",
       "    <tr style=\"text-align: right;\">\n",
       "      <th></th>\n",
       "      <th>InvoiceNo</th>\n",
       "      <th>StockCode</th>\n",
       "      <th>Description</th>\n",
       "      <th>Quantity</th>\n",
       "      <th>InvoiceDate</th>\n",
       "      <th>UnitPrice</th>\n",
       "      <th>CustomerID</th>\n",
       "      <th>Country</th>\n",
       "    </tr>\n",
       "  </thead>\n",
       "  <tbody>\n",
       "    <tr>\n",
       "      <th>0</th>\n",
       "      <td>536365</td>\n",
       "      <td>85123A</td>\n",
       "      <td>WHITE HANGING HEART T-LIGHT HOLDER</td>\n",
       "      <td>6</td>\n",
       "      <td>12/1/2010 8:26</td>\n",
       "      <td>2.55</td>\n",
       "      <td>17850.0</td>\n",
       "      <td>United Kingdom</td>\n",
       "    </tr>\n",
       "    <tr>\n",
       "      <th>1</th>\n",
       "      <td>536365</td>\n",
       "      <td>71053</td>\n",
       "      <td>WHITE METAL LANTERN</td>\n",
       "      <td>6</td>\n",
       "      <td>12/1/2010 8:26</td>\n",
       "      <td>3.39</td>\n",
       "      <td>17850.0</td>\n",
       "      <td>United Kingdom</td>\n",
       "    </tr>\n",
       "    <tr>\n",
       "      <th>2</th>\n",
       "      <td>536365</td>\n",
       "      <td>84406B</td>\n",
       "      <td>CREAM CUPID HEARTS COAT HANGER</td>\n",
       "      <td>8</td>\n",
       "      <td>12/1/2010 8:26</td>\n",
       "      <td>2.75</td>\n",
       "      <td>17850.0</td>\n",
       "      <td>United Kingdom</td>\n",
       "    </tr>\n",
       "    <tr>\n",
       "      <th>3</th>\n",
       "      <td>536365</td>\n",
       "      <td>84029G</td>\n",
       "      <td>KNITTED UNION FLAG HOT WATER BOTTLE</td>\n",
       "      <td>6</td>\n",
       "      <td>12/1/2010 8:26</td>\n",
       "      <td>3.39</td>\n",
       "      <td>17850.0</td>\n",
       "      <td>United Kingdom</td>\n",
       "    </tr>\n",
       "    <tr>\n",
       "      <th>4</th>\n",
       "      <td>536365</td>\n",
       "      <td>84029E</td>\n",
       "      <td>RED WOOLLY HOTTIE WHITE HEART.</td>\n",
       "      <td>6</td>\n",
       "      <td>12/1/2010 8:26</td>\n",
       "      <td>3.39</td>\n",
       "      <td>17850.0</td>\n",
       "      <td>United Kingdom</td>\n",
       "    </tr>\n",
       "  </tbody>\n",
       "</table>\n",
       "</div>"
      ],
      "text/plain": [
       "  InvoiceNo StockCode                          Description  Quantity  \\\n",
       "0    536365    85123A   WHITE HANGING HEART T-LIGHT HOLDER         6   \n",
       "1    536365     71053                  WHITE METAL LANTERN         6   \n",
       "2    536365    84406B       CREAM CUPID HEARTS COAT HANGER         8   \n",
       "3    536365    84029G  KNITTED UNION FLAG HOT WATER BOTTLE         6   \n",
       "4    536365    84029E       RED WOOLLY HOTTIE WHITE HEART.         6   \n",
       "\n",
       "      InvoiceDate  UnitPrice  CustomerID         Country  \n",
       "0  12/1/2010 8:26       2.55     17850.0  United Kingdom  \n",
       "1  12/1/2010 8:26       3.39     17850.0  United Kingdom  \n",
       "2  12/1/2010 8:26       2.75     17850.0  United Kingdom  \n",
       "3  12/1/2010 8:26       3.39     17850.0  United Kingdom  \n",
       "4  12/1/2010 8:26       3.39     17850.0  United Kingdom  "
      ]
     },
     "execution_count": 392,
     "metadata": {},
     "output_type": "execute_result"
    },
    {
     "data": {
      "text/html": [
       "<div>\n",
       "<style>\n",
       "    .dataframe thead tr:only-child th {\n",
       "        text-align: right;\n",
       "    }\n",
       "\n",
       "    .dataframe thead th {\n",
       "        text-align: left;\n",
       "    }\n",
       "\n",
       "    .dataframe tbody tr th {\n",
       "        vertical-align: top;\n",
       "    }\n",
       "</style>\n",
       "<table border=\"1\" class=\"dataframe\">\n",
       "  <thead>\n",
       "    <tr style=\"text-align: right;\">\n",
       "      <th></th>\n",
       "      <th>InvoiceNo</th>\n",
       "      <th>StockCode</th>\n",
       "      <th>Description</th>\n",
       "      <th>Quantity</th>\n",
       "      <th>InvoiceDate</th>\n",
       "      <th>UnitPrice</th>\n",
       "      <th>CustomerID</th>\n",
       "      <th>Country</th>\n",
       "    </tr>\n",
       "  </thead>\n",
       "  <tbody>\n",
       "    <tr>\n",
       "      <th>541904</th>\n",
       "      <td>581587</td>\n",
       "      <td>22613</td>\n",
       "      <td>PACK OF 20 SPACEBOY NAPKINS</td>\n",
       "      <td>12</td>\n",
       "      <td>12/9/2011 12:50</td>\n",
       "      <td>0.85</td>\n",
       "      <td>12680.0</td>\n",
       "      <td>France</td>\n",
       "    </tr>\n",
       "    <tr>\n",
       "      <th>541905</th>\n",
       "      <td>581587</td>\n",
       "      <td>22899</td>\n",
       "      <td>CHILDREN'S APRON DOLLY GIRL</td>\n",
       "      <td>6</td>\n",
       "      <td>12/9/2011 12:50</td>\n",
       "      <td>2.10</td>\n",
       "      <td>12680.0</td>\n",
       "      <td>France</td>\n",
       "    </tr>\n",
       "    <tr>\n",
       "      <th>541906</th>\n",
       "      <td>581587</td>\n",
       "      <td>23254</td>\n",
       "      <td>CHILDRENS CUTLERY DOLLY GIRL</td>\n",
       "      <td>4</td>\n",
       "      <td>12/9/2011 12:50</td>\n",
       "      <td>4.15</td>\n",
       "      <td>12680.0</td>\n",
       "      <td>France</td>\n",
       "    </tr>\n",
       "    <tr>\n",
       "      <th>541907</th>\n",
       "      <td>581587</td>\n",
       "      <td>23255</td>\n",
       "      <td>CHILDRENS CUTLERY CIRCUS PARADE</td>\n",
       "      <td>4</td>\n",
       "      <td>12/9/2011 12:50</td>\n",
       "      <td>4.15</td>\n",
       "      <td>12680.0</td>\n",
       "      <td>France</td>\n",
       "    </tr>\n",
       "    <tr>\n",
       "      <th>541908</th>\n",
       "      <td>581587</td>\n",
       "      <td>22138</td>\n",
       "      <td>BAKING SET 9 PIECE RETROSPOT</td>\n",
       "      <td>3</td>\n",
       "      <td>12/9/2011 12:50</td>\n",
       "      <td>4.95</td>\n",
       "      <td>12680.0</td>\n",
       "      <td>France</td>\n",
       "    </tr>\n",
       "  </tbody>\n",
       "</table>\n",
       "</div>"
      ],
      "text/plain": [
       "       InvoiceNo StockCode                      Description  Quantity  \\\n",
       "541904    581587     22613      PACK OF 20 SPACEBOY NAPKINS        12   \n",
       "541905    581587     22899     CHILDREN'S APRON DOLLY GIRL          6   \n",
       "541906    581587     23254    CHILDRENS CUTLERY DOLLY GIRL          4   \n",
       "541907    581587     23255  CHILDRENS CUTLERY CIRCUS PARADE         4   \n",
       "541908    581587     22138    BAKING SET 9 PIECE RETROSPOT          3   \n",
       "\n",
       "            InvoiceDate  UnitPrice  CustomerID Country  \n",
       "541904  12/9/2011 12:50       0.85     12680.0  France  \n",
       "541905  12/9/2011 12:50       2.10     12680.0  France  \n",
       "541906  12/9/2011 12:50       4.15     12680.0  France  \n",
       "541907  12/9/2011 12:50       4.15     12680.0  France  \n",
       "541908  12/9/2011 12:50       4.95     12680.0  France  "
      ]
     },
     "execution_count": 392,
     "metadata": {},
     "output_type": "execute_result"
    }
   ],
   "source": [
    "# read data\n",
    "df_raw=pd.read_csv('data.csv',encoding=\"ISO-8859-1\")\n",
    "# show first and last 5 rows of data\n",
    "df_raw.head()\n",
    "df_raw.tail()"
   ]
  },
  {
   "cell_type": "code",
   "execution_count": 393,
   "metadata": {},
   "outputs": [
    {
     "data": {
      "text/plain": [
       "InvoiceNo       object\n",
       "StockCode       object\n",
       "Description     object\n",
       "Quantity         int64\n",
       "InvoiceDate     object\n",
       "UnitPrice      float64\n",
       "CustomerID     float64\n",
       "Country         object\n",
       "dtype: object"
      ]
     },
     "execution_count": 393,
     "metadata": {},
     "output_type": "execute_result"
    },
    {
     "data": {
      "text/html": [
       "<div>\n",
       "<style>\n",
       "    .dataframe thead tr:only-child th {\n",
       "        text-align: right;\n",
       "    }\n",
       "\n",
       "    .dataframe thead th {\n",
       "        text-align: left;\n",
       "    }\n",
       "\n",
       "    .dataframe tbody tr th {\n",
       "        vertical-align: top;\n",
       "    }\n",
       "</style>\n",
       "<table border=\"1\" class=\"dataframe\">\n",
       "  <thead>\n",
       "    <tr style=\"text-align: right;\">\n",
       "      <th></th>\n",
       "      <th>Quantity</th>\n",
       "      <th>UnitPrice</th>\n",
       "      <th>CustomerID</th>\n",
       "    </tr>\n",
       "  </thead>\n",
       "  <tbody>\n",
       "    <tr>\n",
       "      <th>count</th>\n",
       "      <td>541909.000000</td>\n",
       "      <td>541909.000000</td>\n",
       "      <td>406829.000000</td>\n",
       "    </tr>\n",
       "    <tr>\n",
       "      <th>mean</th>\n",
       "      <td>9.552250</td>\n",
       "      <td>4.611114</td>\n",
       "      <td>15287.690570</td>\n",
       "    </tr>\n",
       "    <tr>\n",
       "      <th>std</th>\n",
       "      <td>218.081158</td>\n",
       "      <td>96.759853</td>\n",
       "      <td>1713.600303</td>\n",
       "    </tr>\n",
       "    <tr>\n",
       "      <th>min</th>\n",
       "      <td>-80995.000000</td>\n",
       "      <td>-11062.060000</td>\n",
       "      <td>12346.000000</td>\n",
       "    </tr>\n",
       "    <tr>\n",
       "      <th>25%</th>\n",
       "      <td>1.000000</td>\n",
       "      <td>1.250000</td>\n",
       "      <td>13953.000000</td>\n",
       "    </tr>\n",
       "    <tr>\n",
       "      <th>50%</th>\n",
       "      <td>3.000000</td>\n",
       "      <td>2.080000</td>\n",
       "      <td>15152.000000</td>\n",
       "    </tr>\n",
       "    <tr>\n",
       "      <th>75%</th>\n",
       "      <td>10.000000</td>\n",
       "      <td>4.130000</td>\n",
       "      <td>16791.000000</td>\n",
       "    </tr>\n",
       "    <tr>\n",
       "      <th>max</th>\n",
       "      <td>80995.000000</td>\n",
       "      <td>38970.000000</td>\n",
       "      <td>18287.000000</td>\n",
       "    </tr>\n",
       "  </tbody>\n",
       "</table>\n",
       "</div>"
      ],
      "text/plain": [
       "            Quantity      UnitPrice     CustomerID\n",
       "count  541909.000000  541909.000000  406829.000000\n",
       "mean        9.552250       4.611114   15287.690570\n",
       "std       218.081158      96.759853    1713.600303\n",
       "min    -80995.000000  -11062.060000   12346.000000\n",
       "25%         1.000000       1.250000   13953.000000\n",
       "50%         3.000000       2.080000   15152.000000\n",
       "75%        10.000000       4.130000   16791.000000\n",
       "max     80995.000000   38970.000000   18287.000000"
      ]
     },
     "execution_count": 393,
     "metadata": {},
     "output_type": "execute_result"
    }
   ],
   "source": [
    "# data types and basic statistics\n",
    "df_raw.dtypes\n",
    "df_raw.describe()"
   ]
  },
  {
   "cell_type": "markdown",
   "metadata": {},
   "source": [
    "## Data Preparation\n",
    "This dataframe contains 8 variables: InvoiceNo, StockCode, Description, Quantity, InvoiceDate, UnitPrice, CustomerID, and Country. <br>\n",
    "**InvoiceNo**: Invoice number. Nominal, Uniquely and chronologically assigned to each transaction.  <br>\n",
    "**StockCode**: Product (item) code. Uniquely assigned to each distinct product. <br>\n",
    "**Description**: Product (item) name. Nominal. <br>\n",
    "**Quantity**: The quantities of each product (item) per transaction. Numeric.\t<br>\n",
    "**InvoiceDate**: Invice Date and time. Numeric, the day and time when each transaction was generated. <br>\n",
    "**UnitPrice**: Unit price. Numeric, Product price per unit in sterling. <br>\n",
    "**CustomerID**: Customer number. Nominal, a 5-digit integral number uniquely assigned to each customer. <br>\n",
    "**Country**: Country name. Nominal, the name of the country where each customer resides.<br>"
   ]
  },
  {
   "cell_type": "markdown",
   "metadata": {},
   "source": [
    "### Drop duplications"
   ]
  },
  {
   "cell_type": "code",
   "execution_count": 394,
   "metadata": {
    "scrolled": true
   },
   "outputs": [
    {
     "name": "stdout",
     "output_type": "stream",
     "text": [
      "Number of duplicated transactions:  5268\n"
     ]
    }
   ],
   "source": [
    "print('Number of duplicated transactions: ',df_raw.duplicated().sum())\n",
    "df=df_raw.drop_duplicates()"
   ]
  },
  {
   "cell_type": "markdown",
   "metadata": {},
   "source": [
    "### Missing values"
   ]
  },
  {
   "cell_type": "code",
   "execution_count": 395,
   "metadata": {},
   "outputs": [],
   "source": [
    "# fill out missing customerID with 0\n",
    "df['CustomerID']=df['CustomerID'].fillna(0)"
   ]
  },
  {
   "cell_type": "markdown",
   "metadata": {},
   "source": [
    "### InvoiceDate\n",
    "In order to apply a time series analysis, the data type of **InvoiceDate** is converted to *datetime*."
   ]
  },
  {
   "cell_type": "code",
   "execution_count": 396,
   "metadata": {
    "collapsed": true
   },
   "outputs": [],
   "source": [
    "df['InvoiceDate']=pd.to_datetime(df['InvoiceDate'])"
   ]
  },
  {
   "cell_type": "markdown",
   "metadata": {},
   "source": [
    "### Special transactions"
   ]
  },
  {
   "cell_type": "markdown",
   "metadata": {},
   "source": [
    "A portion of transactions have negative quantities and zero unitprices, which requires extra attentions. "
   ]
  },
  {
   "cell_type": "code",
   "execution_count": 397,
   "metadata": {},
   "outputs": [
    {
     "name": "stdout",
     "output_type": "stream",
     "text": [
      "Number of transactions that have negative quantities: 10587\n",
      "Number of transactions that have zero unitprices: 2510\n"
     ]
    }
   ],
   "source": [
    "print('Number of transactions that have negative quantities:', len(df[df['Quantity']<0]))\n",
    "print('Number of transactions that have zero unitprices:', len(df[df['UnitPrice']==0]))"
   ]
  },
  {
   "cell_type": "markdown",
   "metadata": {},
   "source": [
    "Also, some of these orders have speical letters in their InoiceNo."
   ]
  },
  {
   "cell_type": "code",
   "execution_count": 398,
   "metadata": {},
   "outputs": [
    {
     "data": {
      "text/plain": [
       "5    527387\n",
       "C      9251\n",
       "A         3\n",
       "Name: InvoiceNo, dtype: int64"
      ]
     },
     "execution_count": 398,
     "metadata": {},
     "output_type": "execute_result"
    }
   ],
   "source": [
    "df['InvoiceNo'].str[0].value_counts()"
   ]
  },
  {
   "cell_type": "markdown",
   "metadata": {},
   "source": [
    "We can see there are 9254 (9251+3) transactions' InoviceNo start with a letter, either \"C\" or \"A\". 2510 transactions' unitPrice are zero. Let's take a closer look at these transactions."
   ]
  },
  {
   "cell_type": "code",
   "execution_count": 399,
   "metadata": {},
   "outputs": [
    {
     "data": {
      "text/html": [
       "<div>\n",
       "<style>\n",
       "    .dataframe thead tr:only-child th {\n",
       "        text-align: right;\n",
       "    }\n",
       "\n",
       "    .dataframe thead th {\n",
       "        text-align: left;\n",
       "    }\n",
       "\n",
       "    .dataframe tbody tr th {\n",
       "        vertical-align: top;\n",
       "    }\n",
       "</style>\n",
       "<table border=\"1\" class=\"dataframe\">\n",
       "  <thead>\n",
       "    <tr style=\"text-align: right;\">\n",
       "      <th></th>\n",
       "      <th>InvoiceNo</th>\n",
       "      <th>StockCode</th>\n",
       "      <th>Description</th>\n",
       "      <th>Quantity</th>\n",
       "      <th>InvoiceDate</th>\n",
       "      <th>UnitPrice</th>\n",
       "      <th>CustomerID</th>\n",
       "      <th>Country</th>\n",
       "    </tr>\n",
       "  </thead>\n",
       "  <tbody>\n",
       "    <tr>\n",
       "      <th>141</th>\n",
       "      <td>C536379</td>\n",
       "      <td>D</td>\n",
       "      <td>Discount</td>\n",
       "      <td>-1</td>\n",
       "      <td>2010-12-01 09:41:00</td>\n",
       "      <td>27.50</td>\n",
       "      <td>14527.0</td>\n",
       "      <td>United Kingdom</td>\n",
       "    </tr>\n",
       "    <tr>\n",
       "      <th>154</th>\n",
       "      <td>C536383</td>\n",
       "      <td>35004C</td>\n",
       "      <td>SET OF 3 COLOURED  FLYING DUCKS</td>\n",
       "      <td>-1</td>\n",
       "      <td>2010-12-01 09:49:00</td>\n",
       "      <td>4.65</td>\n",
       "      <td>15311.0</td>\n",
       "      <td>United Kingdom</td>\n",
       "    </tr>\n",
       "    <tr>\n",
       "      <th>235</th>\n",
       "      <td>C536391</td>\n",
       "      <td>22556</td>\n",
       "      <td>PLASTERS IN TIN CIRCUS PARADE</td>\n",
       "      <td>-12</td>\n",
       "      <td>2010-12-01 10:24:00</td>\n",
       "      <td>1.65</td>\n",
       "      <td>17548.0</td>\n",
       "      <td>United Kingdom</td>\n",
       "    </tr>\n",
       "    <tr>\n",
       "      <th>236</th>\n",
       "      <td>C536391</td>\n",
       "      <td>21984</td>\n",
       "      <td>PACK OF 12 PINK PAISLEY TISSUES</td>\n",
       "      <td>-24</td>\n",
       "      <td>2010-12-01 10:24:00</td>\n",
       "      <td>0.29</td>\n",
       "      <td>17548.0</td>\n",
       "      <td>United Kingdom</td>\n",
       "    </tr>\n",
       "    <tr>\n",
       "      <th>237</th>\n",
       "      <td>C536391</td>\n",
       "      <td>21983</td>\n",
       "      <td>PACK OF 12 BLUE PAISLEY TISSUES</td>\n",
       "      <td>-24</td>\n",
       "      <td>2010-12-01 10:24:00</td>\n",
       "      <td>0.29</td>\n",
       "      <td>17548.0</td>\n",
       "      <td>United Kingdom</td>\n",
       "    </tr>\n",
       "  </tbody>\n",
       "</table>\n",
       "</div>"
      ],
      "text/plain": [
       "    InvoiceNo StockCode                       Description  Quantity  \\\n",
       "141   C536379         D                          Discount        -1   \n",
       "154   C536383    35004C   SET OF 3 COLOURED  FLYING DUCKS        -1   \n",
       "235   C536391     22556    PLASTERS IN TIN CIRCUS PARADE        -12   \n",
       "236   C536391     21984  PACK OF 12 PINK PAISLEY TISSUES        -24   \n",
       "237   C536391     21983  PACK OF 12 BLUE PAISLEY TISSUES        -24   \n",
       "\n",
       "            InvoiceDate  UnitPrice  CustomerID         Country  \n",
       "141 2010-12-01 09:41:00      27.50     14527.0  United Kingdom  \n",
       "154 2010-12-01 09:49:00       4.65     15311.0  United Kingdom  \n",
       "235 2010-12-01 10:24:00       1.65     17548.0  United Kingdom  \n",
       "236 2010-12-01 10:24:00       0.29     17548.0  United Kingdom  \n",
       "237 2010-12-01 10:24:00       0.29     17548.0  United Kingdom  "
      ]
     },
     "execution_count": 399,
     "metadata": {},
     "output_type": "execute_result"
    },
    {
     "data": {
      "text/html": [
       "<div>\n",
       "<style>\n",
       "    .dataframe thead tr:only-child th {\n",
       "        text-align: right;\n",
       "    }\n",
       "\n",
       "    .dataframe thead th {\n",
       "        text-align: left;\n",
       "    }\n",
       "\n",
       "    .dataframe tbody tr th {\n",
       "        vertical-align: top;\n",
       "    }\n",
       "</style>\n",
       "<table border=\"1\" class=\"dataframe\">\n",
       "  <thead>\n",
       "    <tr style=\"text-align: right;\">\n",
       "      <th></th>\n",
       "      <th>InvoiceNo</th>\n",
       "      <th>StockCode</th>\n",
       "      <th>Description</th>\n",
       "      <th>Quantity</th>\n",
       "      <th>InvoiceDate</th>\n",
       "      <th>UnitPrice</th>\n",
       "      <th>CustomerID</th>\n",
       "      <th>Country</th>\n",
       "    </tr>\n",
       "  </thead>\n",
       "  <tbody>\n",
       "    <tr>\n",
       "      <th>299982</th>\n",
       "      <td>A563185</td>\n",
       "      <td>B</td>\n",
       "      <td>Adjust bad debt</td>\n",
       "      <td>1</td>\n",
       "      <td>2011-08-12 14:50:00</td>\n",
       "      <td>11062.06</td>\n",
       "      <td>0.0</td>\n",
       "      <td>United Kingdom</td>\n",
       "    </tr>\n",
       "    <tr>\n",
       "      <th>299983</th>\n",
       "      <td>A563186</td>\n",
       "      <td>B</td>\n",
       "      <td>Adjust bad debt</td>\n",
       "      <td>1</td>\n",
       "      <td>2011-08-12 14:51:00</td>\n",
       "      <td>-11062.06</td>\n",
       "      <td>0.0</td>\n",
       "      <td>United Kingdom</td>\n",
       "    </tr>\n",
       "    <tr>\n",
       "      <th>299984</th>\n",
       "      <td>A563187</td>\n",
       "      <td>B</td>\n",
       "      <td>Adjust bad debt</td>\n",
       "      <td>1</td>\n",
       "      <td>2011-08-12 14:52:00</td>\n",
       "      <td>-11062.06</td>\n",
       "      <td>0.0</td>\n",
       "      <td>United Kingdom</td>\n",
       "    </tr>\n",
       "  </tbody>\n",
       "</table>\n",
       "</div>"
      ],
      "text/plain": [
       "       InvoiceNo StockCode      Description  Quantity         InvoiceDate  \\\n",
       "299982   A563185         B  Adjust bad debt         1 2011-08-12 14:50:00   \n",
       "299983   A563186         B  Adjust bad debt         1 2011-08-12 14:51:00   \n",
       "299984   A563187         B  Adjust bad debt         1 2011-08-12 14:52:00   \n",
       "\n",
       "        UnitPrice  CustomerID         Country  \n",
       "299982   11062.06         0.0  United Kingdom  \n",
       "299983  -11062.06         0.0  United Kingdom  \n",
       "299984  -11062.06         0.0  United Kingdom  "
      ]
     },
     "execution_count": 399,
     "metadata": {},
     "output_type": "execute_result"
    }
   ],
   "source": [
    "df[df['InvoiceNo'].str[0]=='C'].head()\n",
    "df[df['InvoiceNo'].str[0]=='A'].head()"
   ]
  },
  {
   "cell_type": "markdown",
   "metadata": {},
   "source": [
    "Appearently, if this code starts with letter 'C', it indicates a cancellation. If this code starts with letter 'A', it indicates an adjust bad debt."
   ]
  },
  {
   "cell_type": "markdown",
   "metadata": {},
   "source": [
    "#### Adjust bad debt\n",
    "Simply remove these three transactions."
   ]
  },
  {
   "cell_type": "code",
   "execution_count": 400,
   "metadata": {
    "collapsed": true
   },
   "outputs": [],
   "source": [
    "df=df[df['InvoiceNo'].str[0]!='A']"
   ]
  },
  {
   "cell_type": "markdown",
   "metadata": {},
   "source": [
    "#### Discount"
   ]
  },
  {
   "cell_type": "markdown",
   "metadata": {},
   "source": [
    "Some of the cancellations are due to discount. "
   ]
  },
  {
   "cell_type": "code",
   "execution_count": 401,
   "metadata": {
    "scrolled": false
   },
   "outputs": [
    {
     "data": {
      "text/html": [
       "<div>\n",
       "<style>\n",
       "    .dataframe thead tr:only-child th {\n",
       "        text-align: right;\n",
       "    }\n",
       "\n",
       "    .dataframe thead th {\n",
       "        text-align: left;\n",
       "    }\n",
       "\n",
       "    .dataframe tbody tr th {\n",
       "        vertical-align: top;\n",
       "    }\n",
       "</style>\n",
       "<table border=\"1\" class=\"dataframe\">\n",
       "  <thead>\n",
       "    <tr style=\"text-align: right;\">\n",
       "      <th></th>\n",
       "      <th>InvoiceNo</th>\n",
       "      <th>StockCode</th>\n",
       "      <th>Description</th>\n",
       "      <th>Quantity</th>\n",
       "      <th>InvoiceDate</th>\n",
       "      <th>UnitPrice</th>\n",
       "      <th>CustomerID</th>\n",
       "      <th>Country</th>\n",
       "    </tr>\n",
       "  </thead>\n",
       "  <tbody>\n",
       "    <tr>\n",
       "      <th>141</th>\n",
       "      <td>C536379</td>\n",
       "      <td>D</td>\n",
       "      <td>Discount</td>\n",
       "      <td>-1</td>\n",
       "      <td>2010-12-01 09:41:00</td>\n",
       "      <td>27.50</td>\n",
       "      <td>14527.0</td>\n",
       "      <td>United Kingdom</td>\n",
       "    </tr>\n",
       "    <tr>\n",
       "      <th>9038</th>\n",
       "      <td>C537164</td>\n",
       "      <td>D</td>\n",
       "      <td>Discount</td>\n",
       "      <td>-1</td>\n",
       "      <td>2010-12-05 13:21:00</td>\n",
       "      <td>29.29</td>\n",
       "      <td>14527.0</td>\n",
       "      <td>United Kingdom</td>\n",
       "    </tr>\n",
       "    <tr>\n",
       "      <th>14498</th>\n",
       "      <td>C537597</td>\n",
       "      <td>D</td>\n",
       "      <td>Discount</td>\n",
       "      <td>-1</td>\n",
       "      <td>2010-12-07 12:34:00</td>\n",
       "      <td>281.00</td>\n",
       "      <td>15498.0</td>\n",
       "      <td>United Kingdom</td>\n",
       "    </tr>\n",
       "    <tr>\n",
       "      <th>19392</th>\n",
       "      <td>C537857</td>\n",
       "      <td>D</td>\n",
       "      <td>Discount</td>\n",
       "      <td>-1</td>\n",
       "      <td>2010-12-08 16:00:00</td>\n",
       "      <td>267.12</td>\n",
       "      <td>17340.0</td>\n",
       "      <td>United Kingdom</td>\n",
       "    </tr>\n",
       "    <tr>\n",
       "      <th>31134</th>\n",
       "      <td>C538897</td>\n",
       "      <td>D</td>\n",
       "      <td>Discount</td>\n",
       "      <td>-1</td>\n",
       "      <td>2010-12-15 09:14:00</td>\n",
       "      <td>5.76</td>\n",
       "      <td>16422.0</td>\n",
       "      <td>United Kingdom</td>\n",
       "    </tr>\n",
       "  </tbody>\n",
       "</table>\n",
       "</div>"
      ],
      "text/plain": [
       "      InvoiceNo StockCode Description  Quantity         InvoiceDate  \\\n",
       "141     C536379         D    Discount        -1 2010-12-01 09:41:00   \n",
       "9038    C537164         D    Discount        -1 2010-12-05 13:21:00   \n",
       "14498   C537597         D    Discount        -1 2010-12-07 12:34:00   \n",
       "19392   C537857         D    Discount        -1 2010-12-08 16:00:00   \n",
       "31134   C538897         D    Discount        -1 2010-12-15 09:14:00   \n",
       "\n",
       "       UnitPrice  CustomerID         Country  \n",
       "141        27.50     14527.0  United Kingdom  \n",
       "9038       29.29     14527.0  United Kingdom  \n",
       "14498     281.00     15498.0  United Kingdom  \n",
       "19392     267.12     17340.0  United Kingdom  \n",
       "31134       5.76     16422.0  United Kingdom  "
      ]
     },
     "execution_count": 401,
     "metadata": {},
     "output_type": "execute_result"
    },
    {
     "name": "stdout",
     "output_type": "stream",
     "text": [
      "Number of discount transactions: 77\n"
     ]
    }
   ],
   "source": [
    "df_discount=df[df['StockCode']=='D']\n",
    "df_discount.head()\n",
    "print('Number of discount transactions:', len(df_discount))"
   ]
  },
  {
   "cell_type": "markdown",
   "metadata": {},
   "source": [
    "Without losing generality, these transactions can also be removed."
   ]
  },
  {
   "cell_type": "code",
   "execution_count": 402,
   "metadata": {
    "collapsed": true
   },
   "outputs": [],
   "source": [
    "df=df[df['StockCode']!='D']"
   ]
  },
  {
   "cell_type": "markdown",
   "metadata": {},
   "source": [
    "#### Cancellation"
   ]
  },
  {
   "cell_type": "markdown",
   "metadata": {},
   "source": [
    "As for a cancellation, what will be executed here is to remove both the cancellation and its original order from the dataset. If an order is cancelled after being placed, it shouldn't be treated as a normal order. Here, the original order coresponds to a cancellation is determined by finding the nearest order that has the same **StockCode**, **Description**, **UnitPrice**, **CustomerID**, **Country** and **Quantity** (but positive). Note that some cancellations' original orders may not be included in this dataset, which probably because these orders were placed before 12/01/2010."
   ]
  },
  {
   "cell_type": "code",
   "execution_count": 403,
   "metadata": {
    "scrolled": true
   },
   "outputs": [
    {
     "data": {
      "text/html": [
       "<div>\n",
       "<style>\n",
       "    .dataframe thead tr:only-child th {\n",
       "        text-align: right;\n",
       "    }\n",
       "\n",
       "    .dataframe thead th {\n",
       "        text-align: left;\n",
       "    }\n",
       "\n",
       "    .dataframe tbody tr th {\n",
       "        vertical-align: top;\n",
       "    }\n",
       "</style>\n",
       "<table border=\"1\" class=\"dataframe\">\n",
       "  <thead>\n",
       "    <tr style=\"text-align: right;\">\n",
       "      <th></th>\n",
       "      <th>InvoiceNo</th>\n",
       "      <th>StockCode</th>\n",
       "      <th>Description</th>\n",
       "      <th>Quantity</th>\n",
       "      <th>InvoiceDate</th>\n",
       "      <th>UnitPrice</th>\n",
       "      <th>CustomerID</th>\n",
       "      <th>Country</th>\n",
       "    </tr>\n",
       "  </thead>\n",
       "  <tbody>\n",
       "    <tr>\n",
       "      <th>154</th>\n",
       "      <td>536383</td>\n",
       "      <td>35004C</td>\n",
       "      <td>SET OF 3 COLOURED  FLYING DUCKS</td>\n",
       "      <td>1</td>\n",
       "      <td>2010-12-01 09:49:00</td>\n",
       "      <td>4.65</td>\n",
       "      <td>15311.0</td>\n",
       "      <td>United Kingdom</td>\n",
       "    </tr>\n",
       "    <tr>\n",
       "      <th>235</th>\n",
       "      <td>536391</td>\n",
       "      <td>22556</td>\n",
       "      <td>PLASTERS IN TIN CIRCUS PARADE</td>\n",
       "      <td>12</td>\n",
       "      <td>2010-12-01 10:24:00</td>\n",
       "      <td>1.65</td>\n",
       "      <td>17548.0</td>\n",
       "      <td>United Kingdom</td>\n",
       "    </tr>\n",
       "    <tr>\n",
       "      <th>236</th>\n",
       "      <td>536391</td>\n",
       "      <td>21984</td>\n",
       "      <td>PACK OF 12 PINK PAISLEY TISSUES</td>\n",
       "      <td>24</td>\n",
       "      <td>2010-12-01 10:24:00</td>\n",
       "      <td>0.29</td>\n",
       "      <td>17548.0</td>\n",
       "      <td>United Kingdom</td>\n",
       "    </tr>\n",
       "    <tr>\n",
       "      <th>237</th>\n",
       "      <td>536391</td>\n",
       "      <td>21983</td>\n",
       "      <td>PACK OF 12 BLUE PAISLEY TISSUES</td>\n",
       "      <td>24</td>\n",
       "      <td>2010-12-01 10:24:00</td>\n",
       "      <td>0.29</td>\n",
       "      <td>17548.0</td>\n",
       "      <td>United Kingdom</td>\n",
       "    </tr>\n",
       "    <tr>\n",
       "      <th>238</th>\n",
       "      <td>536391</td>\n",
       "      <td>21980</td>\n",
       "      <td>PACK OF 12 RED RETROSPOT TISSUES</td>\n",
       "      <td>24</td>\n",
       "      <td>2010-12-01 10:24:00</td>\n",
       "      <td>0.29</td>\n",
       "      <td>17548.0</td>\n",
       "      <td>United Kingdom</td>\n",
       "    </tr>\n",
       "  </tbody>\n",
       "</table>\n",
       "</div>"
      ],
      "text/plain": [
       "    InvoiceNo StockCode                        Description  Quantity  \\\n",
       "154    536383    35004C    SET OF 3 COLOURED  FLYING DUCKS         1   \n",
       "235    536391     22556     PLASTERS IN TIN CIRCUS PARADE         12   \n",
       "236    536391     21984   PACK OF 12 PINK PAISLEY TISSUES         24   \n",
       "237    536391     21983   PACK OF 12 BLUE PAISLEY TISSUES         24   \n",
       "238    536391     21980  PACK OF 12 RED RETROSPOT TISSUES         24   \n",
       "\n",
       "            InvoiceDate  UnitPrice  CustomerID         Country  \n",
       "154 2010-12-01 09:49:00       4.65     15311.0  United Kingdom  \n",
       "235 2010-12-01 10:24:00       1.65     17548.0  United Kingdom  \n",
       "236 2010-12-01 10:24:00       0.29     17548.0  United Kingdom  \n",
       "237 2010-12-01 10:24:00       0.29     17548.0  United Kingdom  \n",
       "238 2010-12-01 10:24:00       0.29     17548.0  United Kingdom  "
      ]
     },
     "execution_count": 403,
     "metadata": {},
     "output_type": "execute_result"
    }
   ],
   "source": [
    "# extract all cancellations to a new dataframe df_cancel and remove these transactions from df\n",
    "df_cancel=df[df['InvoiceNo'].str[0]=='C']\n",
    "df=df[df['InvoiceNo'].str[0]!='C']\n",
    "# remove the intial \"C\" letter for all the cancellations and change the quantity from negative to positive\n",
    "df_cancel['InvoiceNo']=df_cancel['InvoiceNo'].str[1:]\n",
    "df_cancel['Quantity']=-df_cancel['Quantity']\n",
    "df_cancel.head()"
   ]
  },
  {
   "cell_type": "markdown",
   "metadata": {},
   "source": [
    "Now the **InvoiceNo** column for both *df* and *df_cancel* only contain intergral numbers, so they can be converted to numerics."
   ]
  },
  {
   "cell_type": "code",
   "execution_count": 404,
   "metadata": {},
   "outputs": [],
   "source": [
    "df['InvoiceNo']=df['InvoiceNo'].astype('int32')\n",
    "df_cancel['InvoiceNo']=df_cancel['InvoiceNo'].astype('int32')"
   ]
  },
  {
   "cell_type": "markdown",
   "metadata": {},
   "source": [
    "Then, *df* and *df_cancel* are merged based on **StockCode**, **Description**, **UnitPrice**, **CustomerID**, **Country** and **Quantity** from *df_cancel* and drop the cancellations that cannot find original orders in *df*. Also, we only keep the orders that were placed before the corresponding cancellation."
   ]
  },
  {
   "cell_type": "code",
   "execution_count": 405,
   "metadata": {
    "scrolled": true
   },
   "outputs": [
    {
     "data": {
      "text/html": [
       "<div>\n",
       "<style>\n",
       "    .dataframe thead tr:only-child th {\n",
       "        text-align: right;\n",
       "    }\n",
       "\n",
       "    .dataframe thead th {\n",
       "        text-align: left;\n",
       "    }\n",
       "\n",
       "    .dataframe tbody tr th {\n",
       "        vertical-align: top;\n",
       "    }\n",
       "</style>\n",
       "<table border=\"1\" class=\"dataframe\">\n",
       "  <thead>\n",
       "    <tr style=\"text-align: right;\">\n",
       "      <th></th>\n",
       "      <th>InvoiceNo_x</th>\n",
       "      <th>StockCode</th>\n",
       "      <th>Description</th>\n",
       "      <th>Quantity</th>\n",
       "      <th>InvoiceDate_x</th>\n",
       "      <th>UnitPrice</th>\n",
       "      <th>CustomerID</th>\n",
       "      <th>Country</th>\n",
       "      <th>InvoiceNo_y</th>\n",
       "      <th>InvoiceDate_y</th>\n",
       "    </tr>\n",
       "    <tr>\n",
       "      <th>index</th>\n",
       "      <th></th>\n",
       "      <th></th>\n",
       "      <th></th>\n",
       "      <th></th>\n",
       "      <th></th>\n",
       "      <th></th>\n",
       "      <th></th>\n",
       "      <th></th>\n",
       "      <th></th>\n",
       "      <th></th>\n",
       "    </tr>\n",
       "  </thead>\n",
       "  <tbody>\n",
       "    <tr>\n",
       "      <th>55.0</th>\n",
       "      <td>536373.0</td>\n",
       "      <td>21071</td>\n",
       "      <td>VINTAGE BILLBOARD DRINK ME MUG</td>\n",
       "      <td>6</td>\n",
       "      <td>2010-12-01 09:02:00</td>\n",
       "      <td>1.06</td>\n",
       "      <td>17850.0</td>\n",
       "      <td>United Kingdom</td>\n",
       "      <td>543611</td>\n",
       "      <td>2011-02-10 14:38:00</td>\n",
       "    </tr>\n",
       "    <tr>\n",
       "      <th>72.0</th>\n",
       "      <td>536375.0</td>\n",
       "      <td>21071</td>\n",
       "      <td>VINTAGE BILLBOARD DRINK ME MUG</td>\n",
       "      <td>6</td>\n",
       "      <td>2010-12-01 09:32:00</td>\n",
       "      <td>1.06</td>\n",
       "      <td>17850.0</td>\n",
       "      <td>United Kingdom</td>\n",
       "      <td>543611</td>\n",
       "      <td>2011-02-10 14:38:00</td>\n",
       "    </tr>\n",
       "    <tr>\n",
       "      <th>285.0</th>\n",
       "      <td>536396.0</td>\n",
       "      <td>21071</td>\n",
       "      <td>VINTAGE BILLBOARD DRINK ME MUG</td>\n",
       "      <td>6</td>\n",
       "      <td>2010-12-01 10:51:00</td>\n",
       "      <td>1.06</td>\n",
       "      <td>17850.0</td>\n",
       "      <td>United Kingdom</td>\n",
       "      <td>543611</td>\n",
       "      <td>2011-02-10 14:38:00</td>\n",
       "    </tr>\n",
       "    <tr>\n",
       "      <th>422.0</th>\n",
       "      <td>536406.0</td>\n",
       "      <td>21071</td>\n",
       "      <td>VINTAGE BILLBOARD DRINK ME MUG</td>\n",
       "      <td>6</td>\n",
       "      <td>2010-12-01 11:33:00</td>\n",
       "      <td>1.06</td>\n",
       "      <td>17850.0</td>\n",
       "      <td>United Kingdom</td>\n",
       "      <td>543611</td>\n",
       "      <td>2011-02-10 14:38:00</td>\n",
       "    </tr>\n",
       "    <tr>\n",
       "      <th>3134.0</th>\n",
       "      <td>536602.0</td>\n",
       "      <td>21071</td>\n",
       "      <td>VINTAGE BILLBOARD DRINK ME MUG</td>\n",
       "      <td>6</td>\n",
       "      <td>2010-12-02 08:34:00</td>\n",
       "      <td>1.06</td>\n",
       "      <td>17850.0</td>\n",
       "      <td>United Kingdom</td>\n",
       "      <td>543611</td>\n",
       "      <td>2011-02-10 14:38:00</td>\n",
       "    </tr>\n",
       "  </tbody>\n",
       "</table>\n",
       "</div>"
      ],
      "text/plain": [
       "        InvoiceNo_x StockCode                     Description  Quantity  \\\n",
       "index                                                                     \n",
       "55.0       536373.0     21071  VINTAGE BILLBOARD DRINK ME MUG         6   \n",
       "72.0       536375.0     21071  VINTAGE BILLBOARD DRINK ME MUG         6   \n",
       "285.0      536396.0     21071  VINTAGE BILLBOARD DRINK ME MUG         6   \n",
       "422.0      536406.0     21071  VINTAGE BILLBOARD DRINK ME MUG         6   \n",
       "3134.0     536602.0     21071  VINTAGE BILLBOARD DRINK ME MUG         6   \n",
       "\n",
       "             InvoiceDate_x  UnitPrice  CustomerID         Country  \\\n",
       "index                                                               \n",
       "55.0   2010-12-01 09:02:00       1.06     17850.0  United Kingdom   \n",
       "72.0   2010-12-01 09:32:00       1.06     17850.0  United Kingdom   \n",
       "285.0  2010-12-01 10:51:00       1.06     17850.0  United Kingdom   \n",
       "422.0  2010-12-01 11:33:00       1.06     17850.0  United Kingdom   \n",
       "3134.0 2010-12-02 08:34:00       1.06     17850.0  United Kingdom   \n",
       "\n",
       "        InvoiceNo_y       InvoiceDate_y  \n",
       "index                                    \n",
       "55.0         543611 2011-02-10 14:38:00  \n",
       "72.0         543611 2011-02-10 14:38:00  \n",
       "285.0        543611 2011-02-10 14:38:00  \n",
       "422.0        543611 2011-02-10 14:38:00  \n",
       "3134.0       543611 2011-02-10 14:38:00  "
      ]
     },
     "execution_count": 405,
     "metadata": {},
     "output_type": "execute_result"
    },
    {
     "name": "stdout",
     "output_type": "stream",
     "text": [
      "number of all possible original orders: 4138\n"
     ]
    }
   ],
   "source": [
    "# merge df and df_cancel and keep the original index of df to the new dataset\n",
    "df_origin_canditates=df.reset_index().merge(df_cancel,how='right',\n",
    "                              on=['StockCode', 'Description','Quantity','UnitPrice','CustomerID','Country']).set_index('index')\n",
    "# remove those cancellations that cannot find exact same orders in the dataset\n",
    "df_origin_canditates.dropna(axis = 0, subset = ['InvoiceNo_x'], inplace = True)\n",
    "# only keep the orders that were placed before the cancellation\n",
    "df_origin_canditates=df_origin_canditates.loc[lambda x: x['InvoiceNo_x']<x['InvoiceNo_y']]\n",
    "df_origin_canditates.head()\n",
    "print('number of all possible original orders:',len(df_origin_canditates))"
   ]
  },
  {
   "cell_type": "markdown",
   "metadata": {},
   "source": [
    "Then we can select the latest order among the possible original orders for each cancellation."
   ]
  },
  {
   "cell_type": "code",
   "execution_count": 406,
   "metadata": {
    "scrolled": false
   },
   "outputs": [
    {
     "data": {
      "text/html": [
       "<div>\n",
       "<style>\n",
       "    .dataframe thead tr:only-child th {\n",
       "        text-align: right;\n",
       "    }\n",
       "\n",
       "    .dataframe thead th {\n",
       "        text-align: left;\n",
       "    }\n",
       "\n",
       "    .dataframe tbody tr th {\n",
       "        vertical-align: top;\n",
       "    }\n",
       "</style>\n",
       "<table border=\"1\" class=\"dataframe\">\n",
       "  <thead>\n",
       "    <tr style=\"text-align: right;\">\n",
       "      <th></th>\n",
       "      <th>InvoiceNo_x</th>\n",
       "      <th>StockCode</th>\n",
       "      <th>Description</th>\n",
       "      <th>Quantity</th>\n",
       "      <th>InvoiceDate_x</th>\n",
       "      <th>UnitPrice</th>\n",
       "      <th>CustomerID</th>\n",
       "      <th>Country</th>\n",
       "      <th>InvoiceNo_y</th>\n",
       "      <th>InvoiceDate_y</th>\n",
       "    </tr>\n",
       "    <tr>\n",
       "      <th>index</th>\n",
       "      <th></th>\n",
       "      <th></th>\n",
       "      <th></th>\n",
       "      <th></th>\n",
       "      <th></th>\n",
       "      <th></th>\n",
       "      <th></th>\n",
       "      <th></th>\n",
       "      <th></th>\n",
       "      <th></th>\n",
       "    </tr>\n",
       "  </thead>\n",
       "  <tbody>\n",
       "    <tr>\n",
       "      <th>4515.0</th>\n",
       "      <td>536787.0</td>\n",
       "      <td>21071</td>\n",
       "      <td>VINTAGE BILLBOARD DRINK ME MUG</td>\n",
       "      <td>6</td>\n",
       "      <td>2010-12-02 15:24:00</td>\n",
       "      <td>1.06</td>\n",
       "      <td>17850.0</td>\n",
       "      <td>United Kingdom</td>\n",
       "      <td>543611</td>\n",
       "      <td>2011-02-10 14:38:00</td>\n",
       "    </tr>\n",
       "    <tr>\n",
       "      <th>24199.0</th>\n",
       "      <td>538343.0</td>\n",
       "      <td>22114</td>\n",
       "      <td>HOT WATER BOTTLE TEA AND SYMPATHY</td>\n",
       "      <td>4</td>\n",
       "      <td>2010-12-10 14:29:00</td>\n",
       "      <td>3.95</td>\n",
       "      <td>13448.0</td>\n",
       "      <td>United Kingdom</td>\n",
       "      <td>538670</td>\n",
       "      <td>2010-12-13 16:19:00</td>\n",
       "    </tr>\n",
       "    <tr>\n",
       "      <th>109089.0</th>\n",
       "      <td>545582.0</td>\n",
       "      <td>21154</td>\n",
       "      <td>RED RETROSPOT OVEN GLOVE</td>\n",
       "      <td>200</td>\n",
       "      <td>2011-03-04 09:05:00</td>\n",
       "      <td>1.06</td>\n",
       "      <td>13694.0</td>\n",
       "      <td>United Kingdom</td>\n",
       "      <td>548577</td>\n",
       "      <td>2011-04-01 10:46:00</td>\n",
       "    </tr>\n",
       "    <tr>\n",
       "      <th>1312.0</th>\n",
       "      <td>536533.0</td>\n",
       "      <td>22680</td>\n",
       "      <td>FRENCH BLUE METAL DOOR SIGN 5</td>\n",
       "      <td>20</td>\n",
       "      <td>2010-12-01 13:31:00</td>\n",
       "      <td>1.25</td>\n",
       "      <td>16955.0</td>\n",
       "      <td>United Kingdom</td>\n",
       "      <td>538725</td>\n",
       "      <td>2010-12-14 11:16:00</td>\n",
       "    </tr>\n",
       "    <tr>\n",
       "      <th>42332.0</th>\n",
       "      <td>539984.0</td>\n",
       "      <td>C2</td>\n",
       "      <td>CARRIAGE</td>\n",
       "      <td>1</td>\n",
       "      <td>2010-12-23 14:58:00</td>\n",
       "      <td>50.00</td>\n",
       "      <td>14911.0</td>\n",
       "      <td>EIRE</td>\n",
       "      <td>540164</td>\n",
       "      <td>2011-01-05 12:02:00</td>\n",
       "    </tr>\n",
       "  </tbody>\n",
       "</table>\n",
       "</div>"
      ],
      "text/plain": [
       "          InvoiceNo_x StockCode                        Description  Quantity  \\\n",
       "index                                                                          \n",
       "4515.0       536787.0     21071     VINTAGE BILLBOARD DRINK ME MUG         6   \n",
       "24199.0      538343.0     22114  HOT WATER BOTTLE TEA AND SYMPATHY         4   \n",
       "109089.0     545582.0     21154          RED RETROSPOT OVEN GLOVE        200   \n",
       "1312.0       536533.0     22680      FRENCH BLUE METAL DOOR SIGN 5        20   \n",
       "42332.0      539984.0        C2                           CARRIAGE         1   \n",
       "\n",
       "               InvoiceDate_x  UnitPrice  CustomerID         Country  \\\n",
       "index                                                                 \n",
       "4515.0   2010-12-02 15:24:00       1.06     17850.0  United Kingdom   \n",
       "24199.0  2010-12-10 14:29:00       3.95     13448.0  United Kingdom   \n",
       "109089.0 2011-03-04 09:05:00       1.06     13694.0  United Kingdom   \n",
       "1312.0   2010-12-01 13:31:00       1.25     16955.0  United Kingdom   \n",
       "42332.0  2010-12-23 14:58:00      50.00     14911.0            EIRE   \n",
       "\n",
       "          InvoiceNo_y       InvoiceDate_y  \n",
       "index                                      \n",
       "4515.0         543611 2011-02-10 14:38:00  \n",
       "24199.0        538670 2010-12-13 16:19:00  \n",
       "109089.0       548577 2011-04-01 10:46:00  \n",
       "1312.0         538725 2010-12-14 11:16:00  \n",
       "42332.0        540164 2011-01-05 12:02:00  "
      ]
     },
     "execution_count": 406,
     "metadata": {},
     "output_type": "execute_result"
    },
    {
     "name": "stdout",
     "output_type": "stream",
     "text": [
      "Number of orginal orders:  2497\n"
     ]
    }
   ],
   "source": [
    "df_origin = df_origin_canditates[df_origin_canditates.groupby(['InvoiceNo_y'])['InvoiceNo_x'].transform(max) == df_origin_canditates['InvoiceNo_x']]\n",
    "df_origin.head()\n",
    "print('Number of orginal orders: ', len(set(df_origin.index)))"
   ]
  },
  {
   "cell_type": "markdown",
   "metadata": {},
   "source": [
    "Next, we remove these orders from *df*."
   ]
  },
  {
   "cell_type": "code",
   "execution_count": 407,
   "metadata": {
    "collapsed": true
   },
   "outputs": [],
   "source": [
    "df=df[~df.index.isin(set(df_origin.index))]"
   ]
  },
  {
   "cell_type": "markdown",
   "metadata": {},
   "source": [
    "#### Return"
   ]
  },
  {
   "cell_type": "markdown",
   "metadata": {},
   "source": [
    "There are still some transactions that have negative quantities and zero unit prices, which are corresponding to return orders. Here, an assumption is made that if an order is returned after being placed, it can still be treated as a normal order. Therefore, only the return transactions, not the original ones, are removed from the dataset."
   ]
  },
  {
   "cell_type": "code",
   "execution_count": 408,
   "metadata": {},
   "outputs": [
    {
     "data": {
      "text/html": [
       "<div>\n",
       "<style>\n",
       "    .dataframe thead tr:only-child th {\n",
       "        text-align: right;\n",
       "    }\n",
       "\n",
       "    .dataframe thead th {\n",
       "        text-align: left;\n",
       "    }\n",
       "\n",
       "    .dataframe tbody tr th {\n",
       "        vertical-align: top;\n",
       "    }\n",
       "</style>\n",
       "<table border=\"1\" class=\"dataframe\">\n",
       "  <thead>\n",
       "    <tr style=\"text-align: right;\">\n",
       "      <th></th>\n",
       "      <th>InvoiceNo</th>\n",
       "      <th>StockCode</th>\n",
       "      <th>Description</th>\n",
       "      <th>Quantity</th>\n",
       "      <th>InvoiceDate</th>\n",
       "      <th>UnitPrice</th>\n",
       "      <th>CustomerID</th>\n",
       "      <th>Country</th>\n",
       "    </tr>\n",
       "  </thead>\n",
       "  <tbody>\n",
       "    <tr>\n",
       "      <th>2406</th>\n",
       "      <td>536589</td>\n",
       "      <td>21777</td>\n",
       "      <td>NaN</td>\n",
       "      <td>-10</td>\n",
       "      <td>2010-12-01 16:50:00</td>\n",
       "      <td>0.0</td>\n",
       "      <td>0.0</td>\n",
       "      <td>United Kingdom</td>\n",
       "    </tr>\n",
       "    <tr>\n",
       "      <th>4347</th>\n",
       "      <td>536764</td>\n",
       "      <td>84952C</td>\n",
       "      <td>NaN</td>\n",
       "      <td>-38</td>\n",
       "      <td>2010-12-02 14:42:00</td>\n",
       "      <td>0.0</td>\n",
       "      <td>0.0</td>\n",
       "      <td>United Kingdom</td>\n",
       "    </tr>\n",
       "    <tr>\n",
       "      <th>7188</th>\n",
       "      <td>536996</td>\n",
       "      <td>22712</td>\n",
       "      <td>NaN</td>\n",
       "      <td>-20</td>\n",
       "      <td>2010-12-03 15:30:00</td>\n",
       "      <td>0.0</td>\n",
       "      <td>0.0</td>\n",
       "      <td>United Kingdom</td>\n",
       "    </tr>\n",
       "    <tr>\n",
       "      <th>7189</th>\n",
       "      <td>536997</td>\n",
       "      <td>22028</td>\n",
       "      <td>NaN</td>\n",
       "      <td>-20</td>\n",
       "      <td>2010-12-03 15:30:00</td>\n",
       "      <td>0.0</td>\n",
       "      <td>0.0</td>\n",
       "      <td>United Kingdom</td>\n",
       "    </tr>\n",
       "    <tr>\n",
       "      <th>7190</th>\n",
       "      <td>536998</td>\n",
       "      <td>85067</td>\n",
       "      <td>NaN</td>\n",
       "      <td>-6</td>\n",
       "      <td>2010-12-03 15:30:00</td>\n",
       "      <td>0.0</td>\n",
       "      <td>0.0</td>\n",
       "      <td>United Kingdom</td>\n",
       "    </tr>\n",
       "  </tbody>\n",
       "</table>\n",
       "</div>"
      ],
      "text/plain": [
       "      InvoiceNo StockCode Description  Quantity         InvoiceDate  \\\n",
       "2406     536589     21777         NaN       -10 2010-12-01 16:50:00   \n",
       "4347     536764    84952C         NaN       -38 2010-12-02 14:42:00   \n",
       "7188     536996     22712         NaN       -20 2010-12-03 15:30:00   \n",
       "7189     536997     22028         NaN       -20 2010-12-03 15:30:00   \n",
       "7190     536998     85067         NaN        -6 2010-12-03 15:30:00   \n",
       "\n",
       "      UnitPrice  CustomerID         Country  \n",
       "2406        0.0         0.0  United Kingdom  \n",
       "4347        0.0         0.0  United Kingdom  \n",
       "7188        0.0         0.0  United Kingdom  \n",
       "7189        0.0         0.0  United Kingdom  \n",
       "7190        0.0         0.0  United Kingdom  "
      ]
     },
     "execution_count": 408,
     "metadata": {},
     "output_type": "execute_result"
    }
   ],
   "source": [
    "df_return=df[(df['Quantity']<0)&(df['UnitPrice']==0)]\n",
    "df_return.head()\n",
    "df=df[~((df['Quantity']<0)&(df['UnitPrice']==0))]"
   ]
  },
  {
   "cell_type": "markdown",
   "metadata": {},
   "source": [
    "#### Other adjustments"
   ]
  },
  {
   "cell_type": "markdown",
   "metadata": {},
   "source": [
    "There are still some transactions have zero unitprice. "
   ]
  },
  {
   "cell_type": "code",
   "execution_count": 409,
   "metadata": {},
   "outputs": [
    {
     "data": {
      "text/html": [
       "<div>\n",
       "<style>\n",
       "    .dataframe thead tr:only-child th {\n",
       "        text-align: right;\n",
       "    }\n",
       "\n",
       "    .dataframe thead th {\n",
       "        text-align: left;\n",
       "    }\n",
       "\n",
       "    .dataframe tbody tr th {\n",
       "        vertical-align: top;\n",
       "    }\n",
       "</style>\n",
       "<table border=\"1\" class=\"dataframe\">\n",
       "  <thead>\n",
       "    <tr style=\"text-align: right;\">\n",
       "      <th></th>\n",
       "      <th>InvoiceNo</th>\n",
       "      <th>StockCode</th>\n",
       "      <th>Description</th>\n",
       "      <th>Quantity</th>\n",
       "      <th>InvoiceDate</th>\n",
       "      <th>UnitPrice</th>\n",
       "      <th>CustomerID</th>\n",
       "      <th>Country</th>\n",
       "    </tr>\n",
       "  </thead>\n",
       "  <tbody>\n",
       "    <tr>\n",
       "      <th>622</th>\n",
       "      <td>536414</td>\n",
       "      <td>22139</td>\n",
       "      <td>NaN</td>\n",
       "      <td>56</td>\n",
       "      <td>2010-12-01 11:52:00</td>\n",
       "      <td>0.0</td>\n",
       "      <td>0.0</td>\n",
       "      <td>United Kingdom</td>\n",
       "    </tr>\n",
       "    <tr>\n",
       "      <th>1970</th>\n",
       "      <td>536545</td>\n",
       "      <td>21134</td>\n",
       "      <td>NaN</td>\n",
       "      <td>1</td>\n",
       "      <td>2010-12-01 14:32:00</td>\n",
       "      <td>0.0</td>\n",
       "      <td>0.0</td>\n",
       "      <td>United Kingdom</td>\n",
       "    </tr>\n",
       "    <tr>\n",
       "      <th>1971</th>\n",
       "      <td>536546</td>\n",
       "      <td>22145</td>\n",
       "      <td>NaN</td>\n",
       "      <td>1</td>\n",
       "      <td>2010-12-01 14:33:00</td>\n",
       "      <td>0.0</td>\n",
       "      <td>0.0</td>\n",
       "      <td>United Kingdom</td>\n",
       "    </tr>\n",
       "    <tr>\n",
       "      <th>1972</th>\n",
       "      <td>536547</td>\n",
       "      <td>37509</td>\n",
       "      <td>NaN</td>\n",
       "      <td>1</td>\n",
       "      <td>2010-12-01 14:33:00</td>\n",
       "      <td>0.0</td>\n",
       "      <td>0.0</td>\n",
       "      <td>United Kingdom</td>\n",
       "    </tr>\n",
       "    <tr>\n",
       "      <th>1987</th>\n",
       "      <td>536549</td>\n",
       "      <td>85226A</td>\n",
       "      <td>NaN</td>\n",
       "      <td>1</td>\n",
       "      <td>2010-12-01 14:34:00</td>\n",
       "      <td>0.0</td>\n",
       "      <td>0.0</td>\n",
       "      <td>United Kingdom</td>\n",
       "    </tr>\n",
       "  </tbody>\n",
       "</table>\n",
       "</div>"
      ],
      "text/plain": [
       "      InvoiceNo StockCode Description  Quantity         InvoiceDate  \\\n",
       "622      536414     22139         NaN        56 2010-12-01 11:52:00   \n",
       "1970     536545     21134         NaN         1 2010-12-01 14:32:00   \n",
       "1971     536546     22145         NaN         1 2010-12-01 14:33:00   \n",
       "1972     536547     37509         NaN         1 2010-12-01 14:33:00   \n",
       "1987     536549    85226A         NaN         1 2010-12-01 14:34:00   \n",
       "\n",
       "      UnitPrice  CustomerID         Country  \n",
       "622         0.0         0.0  United Kingdom  \n",
       "1970        0.0         0.0  United Kingdom  \n",
       "1971        0.0         0.0  United Kingdom  \n",
       "1972        0.0         0.0  United Kingdom  \n",
       "1987        0.0         0.0  United Kingdom  "
      ]
     },
     "execution_count": 409,
     "metadata": {},
     "output_type": "execute_result"
    },
    {
     "data": {
      "text/plain": [
       "['check',\n",
       " 'found',\n",
       " 'adjustment',\n",
       " 'FRENCH BLUE METAL DOOR SIGN 1',\n",
       " 'amazon',\n",
       " 'Found',\n",
       " 'FRENCH BLUE METAL DOOR SIGN 8',\n",
       " 'Amazon',\n",
       " 'RECIPE BOX PANTRY YELLOW DESIGN',\n",
       " 'FRENCH BLUE METAL DOOR SIGN 4',\n",
       " 'FRENCH BLUE METAL DOOR SIGN No',\n",
       " 'FRENCH BLUE METAL DOOR SIGN 3',\n",
       " 'OWL DOORSTOP',\n",
       " 'FRENCH BLUE METAL DOOR SIGN 7',\n",
       " 'FRENCH BLUE METAL DOOR SIGN 5',\n",
       " 'Manual',\n",
       " '?',\n",
       " 'FRENCH BLUE METAL DOOR SIGN 6',\n",
       " 'RED KITCHEN SCALES',\n",
       " 'had been put aside',\n",
       " 'MINT KITCHEN SCALES',\n",
       " 'BOX OF 24 COCKTAIL PARASOLS',\n",
       " 'FRENCH BLUE METAL DOOR SIGN 9',\n",
       " 'POLYESTER FILLER PAD 40x40cm',\n",
       " 'POLYESTER FILLER PAD 45x45cm',\n",
       " 'RECIPE BOX BLUE SKETCHBOOK DESIGN',\n",
       " 'RED RETROSPOT CHARLOTTE BAG',\n",
       " 'FRENCH BLUE METAL DOOR SIGN 2',\n",
       " 'DOORMAT WELCOME TO OUR HOME',\n",
       " 'IVORY KITCHEN SCALES',\n",
       " 'CHILDS GARDEN SPADE BLUE',\n",
       " 'FRENCH BLUE METAL DOOR SIGN 0',\n",
       " 'GLASS JAR DIGESTIVE BISCUITS',\n",
       " 'CHILDRENS GARDEN GLOVES BLUE',\n",
       " 'BLACK KITCHEN SCALES',\n",
       " 'GLASS JAR PEACOCK BATH SALTS',\n",
       " 'ENAMEL WATERING CAN CREAM',\n",
       " 'DOORMAT ENGLISH ROSE ',\n",
       " 'SET OF 6 SOLDIER SKITTLES',\n",
       " 'WHITE HANGING HEART T-LIGHT HOLDER',\n",
       " 'dotcom',\n",
       " 'KINGS CHOICE BISCUIT TIN',\n",
       " 'GLASS JAR KINGS CHOICE',\n",
       " 'AIRLINE BAG VINTAGE TOKYO 78',\n",
       " 'AMAZON',\n",
       " 'AIRLINE BAG VINTAGE WORLD CHAMPION ',\n",
       " 'GLASS JAR ENGLISH CONFECTIONERY',\n",
       " 'RED RETROSPOT CHILDRENS UMBRELLA',\n",
       " 'mailout',\n",
       " 'DOORMAT AIRMAIL ',\n",
       " 'DOORMAT RESPECTABLE HOUSE',\n",
       " 'STRAWBERRY FAIRY CAKE TEAPOT',\n",
       " 'CHILDS GARDEN SPADE PINK',\n",
       " 'AIRLINE BAG VINTAGE JET SET BROWN',\n",
       " 'COFFEE MUG CAT + BIRD DESIGN',\n",
       " 'HOLIDAY FUN LUDO',\n",
       " 'GLASS JAR MARMALADE ',\n",
       " 'ENAMEL FLOWER JUG CREAM',\n",
       " 'ILLUSTRATED CAT BOWL ',\n",
       " 'DOORMAT NEIGHBOURHOOD WITCH ',\n",
       " 'CHILLI LIGHTS',\n",
       " 'JUMBO BAG STRAWBERRY',\n",
       " 'AIRLINE BAG VINTAGE JET SET RED',\n",
       " 'JUMBO BAG RED RETROSPOT',\n",
       " 'CHILDS GARDEN TROWEL BLUE ',\n",
       " 'SEASIDE FLYING DISC',\n",
       " 'JUMBO BAG SPACEBOY DESIGN',\n",
       " 'WHEELBARROW FOR CHILDREN ',\n",
       " 'TEATIME FUNKY FLOWER BACKPACK FOR 2',\n",
       " 'CERAMIC STRAWBERRY MONEY BOX',\n",
       " 'ROUND SNACK BOXES SET OF 4 SKULLS',\n",
       " 'ENAMEL WASH BOWL CREAM',\n",
       " 'WATERING CAN BLUE ELEPHANT',\n",
       " 'CHARLOTTE BAG PINK POLKADOT',\n",
       " 'test',\n",
       " 'BINGO SET',\n",
       " 'CHILDS GARDEN BRUSH PINK',\n",
       " 'SPACEBOY TV DINNER TRAY',\n",
       " 'BLUE POLKADOT LUGGAGE TAG ',\n",
       " 'REGENCY CAKESTAND 3 TIER',\n",
       " 'SET OF 16 VINTAGE BLACK CUTLERY',\n",
       " 'CHILDS GARDEN BRUSH BLUE',\n",
       " 'CERAMIC STRAWBERRY CAKE MONEY BANK',\n",
       " 'Adjustment',\n",
       " 'GREEN REGENCY TEACUP AND SAUCER',\n",
       " 'CHILDRENS APRON SPACEBOY DESIGN',\n",
       " 'GLASS JAR DAISY FRESH COTTON WOOL',\n",
       " 'VINTAGE SNAKES & LADDERS',\n",
       " 'SPOTTY BUNTING',\n",
       " 'SKULL DESIGN TV DINNER TRAY',\n",
       " 'BISCUIT TIN VINTAGE GREEN',\n",
       " 'DOTCOM POSTAGE',\n",
       " 'RETRO \"TEA FOR ONE\" ',\n",
       " 'BLUE POLKADOT PASSPORT COVER',\n",
       " 'taig adjust',\n",
       " 'PORCELAIN BUTTERFLY OIL BURNER',\n",
       " 'STRAWBERRY LUNCH BOX WITH CUTLERY',\n",
       " 'ENAMEL FIRE BUCKET CREAM',\n",
       " 'PICNIC BASKET WICKER LARGE',\n",
       " 'TV DINNER TRAY VINTAGE PAISLEY',\n",
       " 'returned',\n",
       " 'WOODLAND CHARLOTTE BAG',\n",
       " 'BAKING SET SPACEBOY DESIGN',\n",
       " 'SET OF 9 BLACK SKULL BALLOONS',\n",
       " 'VINTAGE LEAF MAGNETIC NOTEPAD',\n",
       " 'michel oops',\n",
       " 'amazon adjust',\n",
       " 'BLACK MINI TAPE MEASURE ',\n",
       " 'BISCUIT TIN VINTAGE CHRISTMAS',\n",
       " 'MILK PAN RED RETROSPOT',\n",
       " 'ZINC WILLIE WINKIE  CANDLE STICK',\n",
       " 'CHILDS GARDEN FORK BLUE ',\n",
       " 'to push order througha s stock was ',\n",
       " 'check?',\n",
       " \"CHILDREN'S APRON DOLLY GIRL \",\n",
       " 'BISCUIT TIN VINTAGE RED',\n",
       " 'RED RETROSPOT SUGAR JAM BOWL',\n",
       " 'WATERING CAN PINK BUNNY',\n",
       " 'POLKADOT RAIN HAT ',\n",
       " 'CHOCOLATE HOT WATER BOTTLE',\n",
       " 'PINK REGENCY TEACUP AND SAUCER',\n",
       " 'CHRISTMAS PUDDING TRINKET POT ',\n",
       " 'Marked as 23343',\n",
       " 'MILK PAN PINK POLKADOT',\n",
       " 'ORGANISER WOOD ANTIQUE WHITE ',\n",
       " 'HEART GARLAND RUSTIC PADDED',\n",
       " 'on cargo order',\n",
       " 'DOORMAT MERRY CHRISTMAS RED ',\n",
       " 'GARAGE KEY FOB',\n",
       " '4 TRADITIONAL SPINNING TOPS',\n",
       " 'came coded as 20713',\n",
       " 'TOY TIDY SPACEBOY  ',\n",
       " 'WHITE SKULL HOT WATER BOTTLE ',\n",
       " 'FAWN BLUE HOT WATER BOTTLE',\n",
       " 'ROUND CAKE TIN VINTAGE GREEN',\n",
       " 'FRYING PAN BLUE POLKADOT',\n",
       " 'incorrectly credited C550456 see 47',\n",
       " 'EMPIRE UNION JACK TV DINNER TRAY',\n",
       " 'PAPER BUNTING RETROSPOT',\n",
       " '36 FOIL STAR CAKE CASES ',\n",
       " 'wrongly coded 23343',\n",
       " 'KEY FOB , BACK DOOR ',\n",
       " 'FAIRY CAKES NOTEBOOK A6 SIZE',\n",
       " 'website fixed',\n",
       " 'TRADITIONAL WOODEN SKIPPING ROPE',\n",
       " 'DOORMAT 3 SMILEY CATS',\n",
       " 'CHILDS GARDEN RAKE BLUE',\n",
       " 'WOODEN BOX OF DOMINOES',\n",
       " 'HEART OF WICKER LARGE',\n",
       " 'JUMBO BAG TOYS ',\n",
       " 'LUNCH BAG WOODLAND',\n",
       " 'CERAMIC CHERRY CAKE MONEY BANK',\n",
       " 'SET OF 2 CERAMIC PAINTED HEARTS ',\n",
       " 'PASTEL COLOUR HONEYCOMB FAN',\n",
       " 'SET OF 6 NATIVITY MAGNETS ',\n",
       " 'PACK OF 12 LONDON TISSUES ',\n",
       " 'PICNIC BASKET WICKER SMALL',\n",
       " 'CERAMIC PIRATE CHEST MONEY BANK',\n",
       " 'TRAVEL SEWING KIT',\n",
       " 'dotcomstock',\n",
       " 'wrongly marked',\n",
       " 'John Lewis',\n",
       " 'Found by jackie',\n",
       " 'CHILDS BREAKFAST SET CIRCUS PARADE',\n",
       " 'did  a credit  and did not tick ret',\n",
       " 'RED RETROSPOT BUTTER DISH',\n",
       " 'add stock to allocate online orders',\n",
       " 'Lighthouse Trading zero invc incorr',\n",
       " 'ASSTD MULTICOLOUR CIRCLES MUG',\n",
       " 'allocate stock for dotcom orders ta',\n",
       " 'SET OF 2 CERAMIC CHRISTMAS REINDEER',\n",
       " 'CLASSIC GLASS COOKIE JAR',\n",
       " 'CHILDRENS GARDEN GLOVES PINK',\n",
       " 'alan hodge cant mamage this section',\n",
       " 'Had been put aside.',\n",
       " 'PIGGY BANK RETROSPOT ',\n",
       " 'HANGING METAL HEART LANTERN',\n",
       " 'found box',\n",
       " 'HOT WATER BOTTLE TEA AND SYMPATHY',\n",
       " 'wrongly sold (22719) barcode',\n",
       " 'FBA',\n",
       " 'DINOSAUR LUNCH BOX WITH CUTLERY',\n",
       " 'GROW YOUR OWN PLANT IN A CAN ',\n",
       " 'LUNCH BOX WITH CUTLERY FAIRY CAKES ',\n",
       " 'MINI CAKE STAND  HANGING STRAWBERY',\n",
       " 'PARTY BUNTING',\n",
       " 'TV DINNER TRAY DOLLY GIRL',\n",
       " 'rcvd be air temp fix for dotcom sit',\n",
       " 'CERAMIC LOVE HEART MONEY BANK',\n",
       " 'KEY FOB , SHED',\n",
       " 'wrongly coded 20713',\n",
       " 'ADVENT CALENDAR GINGHAM SACK',\n",
       " 'SET OF 20 KIDS COOKIE CUTTERS',\n",
       " 'ENAMEL COLANDER CREAM',\n",
       " 'Sale error',\n",
       " 'wrongly marked 23343',\n",
       " 'CERAMIC HEART FAIRY CAKE MONEY BANK',\n",
       " 'PACK OF 6 BIRDY GIFT TAGS',\n",
       " 'FOUND',\n",
       " 'DOORMAT HEARTS',\n",
       " 'WHITE SPOT BLUE CERAMIC DRAWER KNOB',\n",
       " 'CIRCUS PARADE LUNCH BOX ',\n",
       " 'VICTORIAN SEWING BOX LARGE',\n",
       " 'mailout ',\n",
       " 'PADS TO MATCH ALL CUSHIONS',\n",
       " 'MINI LIGHTS WOODLAND MUSHROOMS',\n",
       " 'FULL ENGLISH BREAKFAST PLATE',\n",
       " 'PARTY METAL SIGN ',\n",
       " 'CHICK GREY HOT WATER BOTTLE',\n",
       " ' OVAL WALL MIRROR DIAMANTE ',\n",
       " 'CREAM SWEETHEART LETTER RACK',\n",
       " 'UNION STRIPE WITH FRINGE  HAMMOCK',\n",
       " 'VINTAGE HEADS AND TAILS CARD GAME ',\n",
       " 'TRAVEL CARD WALLET DOTCOMGIFTSHOP',\n",
       " 'DOORMAT HOME SWEET HOME BLUE ',\n",
       " 'for online retail orders',\n",
       " 'CHILDS GARDEN TROWEL PINK',\n",
       " 'ROSES REGENCY TEACUP AND SAUCER ',\n",
       " 'PLASTERS IN TIN SKULLS',\n",
       " 'dotcom adjust',\n",
       " 'SET/20 RED RETROSPOT PAPER NAPKINS ',\n",
       " 'FRIDGE MAGNETS LES ENFANTS ASSORTED',\n",
       " 'AIRLINE BAG VINTAGE JET SET WHITE',\n",
       " 'CHILDS GARDEN FORK PINK',\n",
       " 'PAPER BUNTING VINTAGE PAISLEY',\n",
       " 'ASSTD DESIGN 3D PAPER STICKERS',\n",
       " 'COFFEE MUG DOG + BALL DESIGN',\n",
       " 'PINK DOUGHNUT TRINKET POT ',\n",
       " 'Amazon Adjustment',\n",
       " 'RED RETROSPOT TEA CUP AND SAUCER ',\n",
       " 'GLASS CLOCHE SMALL',\n",
       " 'LUNCH BAG SUKI DESIGN ',\n",
       " 'SET OF 2 TRAYS HOME SWEET HOME',\n",
       " 'JAM MAKING SET WITH JARS',\n",
       " 'CERAMIC BOWL WITH LOVE HEART DESIGN',\n",
       " 'DOORMAT RED RETROSPOT',\n",
       " 'KEY FOB , GARAGE DESIGN',\n",
       " 'damaged',\n",
       " 'TOADSTOOL MONEY BOX',\n",
       " 'BOX OF VINTAGE JIGSAW BLOCKS ',\n",
       " 'DOORSTOP RACING CAR DESIGN',\n",
       " 'Found in w/hse',\n",
       " 'BLUE SPOT CERAMIC DRAWER KNOB',\n",
       " 'STRAWBERRY CERAMIC TRINKET BOX',\n",
       " 'BOX OF 6 ASSORTED COLOUR TEASPOONS',\n",
       " 'amazon sales']"
      ]
     },
     "execution_count": 409,
     "metadata": {},
     "output_type": "execute_result"
    }
   ],
   "source": [
    "df_other=df[df['UnitPrice']==0]\n",
    "df_other.head()\n",
    "list(df_other['Description'].value_counts().index)"
   ]
  },
  {
   "cell_type": "markdown",
   "metadata": {},
   "source": [
    "We can see these transactions are due to various reasons such as missing price, adjustment, check, found, etc. For simplicity, these transactions are droped as well. "
   ]
  },
  {
   "cell_type": "code",
   "execution_count": 410,
   "metadata": {},
   "outputs": [],
   "source": [
    "df=df[df['UnitPrice']!=0]"
   ]
  },
  {
   "cell_type": "markdown",
   "metadata": {},
   "source": [
    "### Country"
   ]
  },
  {
   "cell_type": "markdown",
   "metadata": {},
   "source": [
    "Check the data distribution across different countries."
   ]
  },
  {
   "cell_type": "code",
   "execution_count": 411,
   "metadata": {
    "scrolled": true
   },
   "outputs": [
    {
     "data": {
      "text/plain": [
       "United Kingdom    91.505226\n",
       "Germany            1.715801\n",
       "France             1.593859\n",
       "EIRE               1.484934\n",
       "Spain              0.469964\n",
       "Name: Country, dtype: float64"
      ]
     },
     "execution_count": 411,
     "metadata": {},
     "output_type": "execute_result"
    }
   ],
   "source": [
    "# top 5 countries' percentages\n",
    "countries = df['Country'].value_counts()\n",
    "countries.apply(lambda x:x/len(df)*100).head()"
   ]
  },
  {
   "cell_type": "markdown",
   "metadata": {},
   "source": [
    "We can see about 91% of the data are from UK. In the following, in order to achieve more accurate time series results, we only focus on the orders from UK."
   ]
  },
  {
   "cell_type": "code",
   "execution_count": 412,
   "metadata": {
    "collapsed": true
   },
   "outputs": [],
   "source": [
    "df=df[df['Country']=='United Kingdom']"
   ]
  },
  {
   "cell_type": "markdown",
   "metadata": {},
   "source": [
    "### Add \"Sales\" feature"
   ]
  },
  {
   "cell_type": "markdown",
   "metadata": {},
   "source": [
    "A new column is created for characterizing the total sales of each transaction."
   ]
  },
  {
   "cell_type": "code",
   "execution_count": 413,
   "metadata": {
    "scrolled": true
   },
   "outputs": [
    {
     "data": {
      "text/html": [
       "<div>\n",
       "<style>\n",
       "    .dataframe thead tr:only-child th {\n",
       "        text-align: right;\n",
       "    }\n",
       "\n",
       "    .dataframe thead th {\n",
       "        text-align: left;\n",
       "    }\n",
       "\n",
       "    .dataframe tbody tr th {\n",
       "        vertical-align: top;\n",
       "    }\n",
       "</style>\n",
       "<table border=\"1\" class=\"dataframe\">\n",
       "  <thead>\n",
       "    <tr style=\"text-align: right;\">\n",
       "      <th></th>\n",
       "      <th>InvoiceNo</th>\n",
       "      <th>StockCode</th>\n",
       "      <th>Description</th>\n",
       "      <th>Quantity</th>\n",
       "      <th>InvoiceDate</th>\n",
       "      <th>UnitPrice</th>\n",
       "      <th>CustomerID</th>\n",
       "      <th>Country</th>\n",
       "      <th>Sales</th>\n",
       "    </tr>\n",
       "  </thead>\n",
       "  <tbody>\n",
       "    <tr>\n",
       "      <th>0</th>\n",
       "      <td>536365</td>\n",
       "      <td>85123A</td>\n",
       "      <td>WHITE HANGING HEART T-LIGHT HOLDER</td>\n",
       "      <td>6</td>\n",
       "      <td>2010-12-01 08:26:00</td>\n",
       "      <td>2.55</td>\n",
       "      <td>17850.0</td>\n",
       "      <td>United Kingdom</td>\n",
       "      <td>15.30</td>\n",
       "    </tr>\n",
       "    <tr>\n",
       "      <th>1</th>\n",
       "      <td>536365</td>\n",
       "      <td>71053</td>\n",
       "      <td>WHITE METAL LANTERN</td>\n",
       "      <td>6</td>\n",
       "      <td>2010-12-01 08:26:00</td>\n",
       "      <td>3.39</td>\n",
       "      <td>17850.0</td>\n",
       "      <td>United Kingdom</td>\n",
       "      <td>20.34</td>\n",
       "    </tr>\n",
       "    <tr>\n",
       "      <th>2</th>\n",
       "      <td>536365</td>\n",
       "      <td>84406B</td>\n",
       "      <td>CREAM CUPID HEARTS COAT HANGER</td>\n",
       "      <td>8</td>\n",
       "      <td>2010-12-01 08:26:00</td>\n",
       "      <td>2.75</td>\n",
       "      <td>17850.0</td>\n",
       "      <td>United Kingdom</td>\n",
       "      <td>22.00</td>\n",
       "    </tr>\n",
       "    <tr>\n",
       "      <th>3</th>\n",
       "      <td>536365</td>\n",
       "      <td>84029G</td>\n",
       "      <td>KNITTED UNION FLAG HOT WATER BOTTLE</td>\n",
       "      <td>6</td>\n",
       "      <td>2010-12-01 08:26:00</td>\n",
       "      <td>3.39</td>\n",
       "      <td>17850.0</td>\n",
       "      <td>United Kingdom</td>\n",
       "      <td>20.34</td>\n",
       "    </tr>\n",
       "    <tr>\n",
       "      <th>4</th>\n",
       "      <td>536365</td>\n",
       "      <td>84029E</td>\n",
       "      <td>RED WOOLLY HOTTIE WHITE HEART.</td>\n",
       "      <td>6</td>\n",
       "      <td>2010-12-01 08:26:00</td>\n",
       "      <td>3.39</td>\n",
       "      <td>17850.0</td>\n",
       "      <td>United Kingdom</td>\n",
       "      <td>20.34</td>\n",
       "    </tr>\n",
       "  </tbody>\n",
       "</table>\n",
       "</div>"
      ],
      "text/plain": [
       "   InvoiceNo StockCode                          Description  Quantity  \\\n",
       "0     536365    85123A   WHITE HANGING HEART T-LIGHT HOLDER         6   \n",
       "1     536365     71053                  WHITE METAL LANTERN         6   \n",
       "2     536365    84406B       CREAM CUPID HEARTS COAT HANGER         8   \n",
       "3     536365    84029G  KNITTED UNION FLAG HOT WATER BOTTLE         6   \n",
       "4     536365    84029E       RED WOOLLY HOTTIE WHITE HEART.         6   \n",
       "\n",
       "          InvoiceDate  UnitPrice  CustomerID         Country  Sales  \n",
       "0 2010-12-01 08:26:00       2.55     17850.0  United Kingdom  15.30  \n",
       "1 2010-12-01 08:26:00       3.39     17850.0  United Kingdom  20.34  \n",
       "2 2010-12-01 08:26:00       2.75     17850.0  United Kingdom  22.00  \n",
       "3 2010-12-01 08:26:00       3.39     17850.0  United Kingdom  20.34  \n",
       "4 2010-12-01 08:26:00       3.39     17850.0  United Kingdom  20.34  "
      ]
     },
     "execution_count": 413,
     "metadata": {},
     "output_type": "execute_result"
    }
   ],
   "source": [
    "df['Sales']=df['Quantity']*df['UnitPrice']\n",
    "df.head()"
   ]
  },
  {
   "cell_type": "markdown",
   "metadata": {},
   "source": [
    "## Data Visualization"
   ]
  },
  {
   "cell_type": "markdown",
   "metadata": {},
   "source": [
    "The modified Data is exported to data_modified.csv in order to do data Vislization in Tableau."
   ]
  },
  {
   "cell_type": "code",
   "execution_count": 414,
   "metadata": {
    "collapsed": true
   },
   "outputs": [],
   "source": [
    "df.to_csv('data_modified.csv', sep='\\t')"
   ]
  },
  {
   "cell_type": "markdown",
   "metadata": {},
   "source": [
    "## Data Analysis"
   ]
  },
  {
   "cell_type": "markdown",
   "metadata": {},
   "source": [
    "## Discussion"
   ]
  },
  {
   "cell_type": "markdown",
   "metadata": {},
   "source": [
    "## Summary"
   ]
  }
 ],
 "metadata": {
  "kernelspec": {
   "display_name": "Python 3",
   "language": "python",
   "name": "python3"
  },
  "language_info": {
   "codemirror_mode": {
    "name": "ipython",
    "version": 3
   },
   "file_extension": ".py",
   "mimetype": "text/x-python",
   "name": "python",
   "nbconvert_exporter": "python",
   "pygments_lexer": "ipython3",
   "version": "3.6.3"
  },
  "toc": {
   "nav_menu": {
    "height": "87px",
    "width": "254px"
   },
   "number_sections": true,
   "sideBar": true,
   "skip_h1_title": false,
   "title_cell": "Table of Contents",
   "title_sidebar": "Contents",
   "toc_cell": false,
   "toc_position": {
    "height": "151px",
    "left": "49px",
    "top": "628px",
    "width": "269px"
   },
   "toc_section_display": true,
   "toc_window_display": true
  }
 },
 "nbformat": 4,
 "nbformat_minor": 2
}
